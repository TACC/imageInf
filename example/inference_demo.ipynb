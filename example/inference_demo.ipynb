{
 "cells": [
  {
   "cell_type": "code",
   "execution_count": null,
   "id": "a355834c-d7e0-4a73-9774-6287901cf23c",
   "metadata": {},
   "outputs": [],
   "source": [
    "# Optional: install dependencies if not already present\n",
    "# Uncomment if running on a fresh JupyterHub environment\n",
    "\n",
    "# %pip install tapipy requests pillow matplotlib\n",
    "import getpass\n",
    "from tapipy.tapis import Tapis\n",
    "\n",
    "username = input(\"Enter your Tapis username: \")\n",
    "password = getpass.getpass(\"Enter your Tapis password: \")\n",
    "\n",
    "tapis = Tapis(base_url=\"https://designsafe.tapis.io\", username=username, password=password)\n",
    "tapis.get_tokens()\n",
    "tapis_jwt = tapis.access_token.access_token"
   ]
  },
  {
   "cell_type": "code",
   "execution_count": null,
   "id": "0ec313f6-c778-4470-b7f3-670e32c63b67",
   "metadata": {},
   "outputs": [],
   "source": [
    "# Fetch and display image from Tapis\n",
    "from PIL import Image\n",
    "from io import BytesIO\n",
    "import matplotlib.pyplot as plt\n",
    "\n",
    "system_id = \"designsafe.storage.published\"\n",
    "path = \"/PRJ-3379/RApp/uwrapid/Home/Photo 1642618419.jpg\"\n",
    "\n",
    "# Fetch image bytes using Tapis Files API\n",
    "image_bytes = tapis.files.getContents(systemId=system_id, path=path)\n",
    "image = Image.open(BytesIO(image_bytes))\n",
    "\n",
    "# Display the image\n",
    "plt.imshow(image)\n",
    "plt.axis(\"off\")\n",
    "plt.title(\"Image from DesignSafe\")\n",
    "plt.show()\n"
   ]
  },
  {
   "cell_type": "code",
   "execution_count": null,
   "id": "b52f086b-39f7-497a-a6d3-5ffa33f930e9",
   "metadata": {},
   "outputs": [],
   "source": [
    "# Cell 3: Run inference using FastAPI\n",
    "import requests\n",
    "\n",
    "inference_request = {\n",
    "    \"files\": [\n",
    "        {\n",
    "            \"systemId\": system_id,\n",
    "            \"path\": path\n",
    "        }\n",
    "    ]\n",
    "}\n",
    "\n",
    "headers = {\n",
    "    \"Content-Type\": \"application/json\",\n",
    "    \"X-Tapis-Token\": tapis_jwt\n",
    "}\n",
    "\n",
    "FASTAPI_URL = \"http://localhost:8080/inference/sync\"\n",
    "response = requests.post(FASTAPI_URL, headers=headers, json=inference_request)\n",
    "\n",
    "response_json = response.json()\n",
    "response_json\n"
   ]
  },
  {
   "cell_type": "code",
   "execution_count": null,
   "id": "61b144c5-a534-460a-9664-c53ea01e2829",
   "metadata": {},
   "outputs": [],
   "source": []
  }
 ],
 "metadata": {
  "kernelspec": {
   "display_name": "Python 3 (ipykernel)",
   "language": "python",
   "name": "python3"
  },
  "language_info": {
   "codemirror_mode": {
    "name": "ipython",
    "version": 3
   },
   "file_extension": ".py",
   "mimetype": "text/x-python",
   "name": "python",
   "nbconvert_exporter": "python",
   "pygments_lexer": "ipython3",
   "version": "3.12.2"
  }
 },
 "nbformat": 4,
 "nbformat_minor": 5
}
